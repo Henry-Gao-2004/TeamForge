{
 "cells": [
  {
   "cell_type": "code",
   "execution_count": 1,
   "id": "346f275f-34e2-42a0-9dab-fc16fb271356",
   "metadata": {
    "tags": []
   },
   "outputs": [
    {
     "name": "stdout",
     "output_type": "stream",
     "text": [
      "Collecting gremlinpython\n",
      "  Obtaining dependency information for gremlinpython from https://files.pythonhosted.org/packages/15/65/5a381fa356336d3c3047f71271b0d3f26e45deea6ee8d15b9aefd86a37b3/gremlinpython-3.7.0-py2.py3-none-any.whl.metadata\n",
      "  Downloading gremlinpython-3.7.0-py2.py3-none-any.whl.metadata (6.4 kB)\n",
      "Requirement already satisfied: nest-asyncio in /home/ec2-user/anaconda3/envs/python3/lib/python3.10/site-packages (from gremlinpython) (1.5.6)\n",
      "Requirement already satisfied: aiohttp<4.0.0,>=3.8.0 in /home/ec2-user/anaconda3/envs/python3/lib/python3.10/site-packages (from gremlinpython) (3.8.4)\n",
      "Collecting aenum<4.0.0,>=1.4.5 (from gremlinpython)\n",
      "  Obtaining dependency information for aenum<4.0.0,>=1.4.5 from https://files.pythonhosted.org/packages/d0/fa/ca0c66b388624ba9dbbf35aab3a9f326bfdf5e56a7237fe8f1b600da6864/aenum-3.1.15-py3-none-any.whl.metadata\n",
      "  Downloading aenum-3.1.15-py3-none-any.whl.metadata (3.7 kB)\n",
      "Requirement already satisfied: six<2.0.0,>=1.10.0 in /home/ec2-user/anaconda3/envs/python3/lib/python3.10/site-packages (from gremlinpython) (1.16.0)\n",
      "Collecting isodate<1.0.0,>=0.6.0 (from gremlinpython)\n",
      "  Downloading isodate-0.6.1-py2.py3-none-any.whl (41 kB)\n",
      "\u001b[2K     \u001b[90m━━━━━━━━━━━━━━━━━━━━━━━━━━━━━━━━━━━━━━━━\u001b[0m \u001b[32m41.7/41.7 kB\u001b[0m \u001b[31m3.7 MB/s\u001b[0m eta \u001b[36m0:00:00\u001b[0m\n",
      "\u001b[?25hRequirement already satisfied: attrs>=17.3.0 in /home/ec2-user/anaconda3/envs/python3/lib/python3.10/site-packages (from aiohttp<4.0.0,>=3.8.0->gremlinpython) (23.1.0)\n",
      "Requirement already satisfied: charset-normalizer<4.0,>=2.0 in /home/ec2-user/anaconda3/envs/python3/lib/python3.10/site-packages (from aiohttp<4.0.0,>=3.8.0->gremlinpython) (3.2.0)\n",
      "Requirement already satisfied: multidict<7.0,>=4.5 in /home/ec2-user/anaconda3/envs/python3/lib/python3.10/site-packages (from aiohttp<4.0.0,>=3.8.0->gremlinpython) (6.0.4)\n",
      "Requirement already satisfied: async-timeout<5.0,>=4.0.0a3 in /home/ec2-user/anaconda3/envs/python3/lib/python3.10/site-packages (from aiohttp<4.0.0,>=3.8.0->gremlinpython) (4.0.2)\n",
      "Requirement already satisfied: yarl<2.0,>=1.0 in /home/ec2-user/anaconda3/envs/python3/lib/python3.10/site-packages (from aiohttp<4.0.0,>=3.8.0->gremlinpython) (1.9.2)\n",
      "Requirement already satisfied: frozenlist>=1.1.1 in /home/ec2-user/anaconda3/envs/python3/lib/python3.10/site-packages (from aiohttp<4.0.0,>=3.8.0->gremlinpython) (1.4.0)\n",
      "Requirement already satisfied: aiosignal>=1.1.2 in /home/ec2-user/anaconda3/envs/python3/lib/python3.10/site-packages (from aiohttp<4.0.0,>=3.8.0->gremlinpython) (1.3.1)\n",
      "Requirement already satisfied: idna>=2.0 in /home/ec2-user/anaconda3/envs/python3/lib/python3.10/site-packages (from yarl<2.0,>=1.0->aiohttp<4.0.0,>=3.8.0->gremlinpython) (3.4)\n",
      "Downloading gremlinpython-3.7.0-py2.py3-none-any.whl (74 kB)\n",
      "\u001b[2K   \u001b[90m━━━━━━━━━━━━━━━━━━━━━━━━━━━━━━━━━━━━━━━━\u001b[0m \u001b[32m75.0/75.0 kB\u001b[0m \u001b[31m10.6 MB/s\u001b[0m eta \u001b[36m0:00:00\u001b[0m\n",
      "\u001b[?25hDownloading aenum-3.1.15-py3-none-any.whl (137 kB)\n",
      "\u001b[2K   \u001b[90m━━━━━━━━━━━━━━━━━━━━━━━━━━━━━━━━━━━━━━━━\u001b[0m \u001b[32m137.6/137.6 kB\u001b[0m \u001b[31m23.4 MB/s\u001b[0m eta \u001b[36m0:00:00\u001b[0m\n",
      "\u001b[?25hInstalling collected packages: aenum, isodate, gremlinpython\n",
      "Successfully installed aenum-3.1.15 gremlinpython-3.7.0 isodate-0.6.1\n"
     ]
    }
   ],
   "source": [
    "!pip install gremlinpython"
   ]
  },
  {
   "cell_type": "markdown",
   "id": "b5ce602a-9ff0-4cd1-b29b-3ef333c889e1",
   "metadata": {},
   "source": [
    "Tutorial Code:"
   ]
  },
  {
   "cell_type": "code",
   "execution_count": 1,
   "id": "e05c2dee-3eab-4be3-85f2-a59a8515c837",
   "metadata": {
    "tags": []
   },
   "outputs": [],
   "source": [
    "from gremlin_python import statics\n",
    "from gremlin_python.structure.graph import Graph\n",
    "from gremlin_python.process.graph_traversal import __\n",
    "from gremlin_python.process.strategies import *\n",
    "from gremlin_python.driver.driver_remote_connection import DriverRemoteConnection\n",
    "from gremlin_python.driver.aiohttp.transport import AiohttpTransport\n",
    "from gremlin_python.process.traversal import *\n",
    "import os\n",
    "\n",
    "port = 8182\n",
    "server = 'teamforgedb-instance-1.croj01onqdg2.us-east-2.neptune.amazonaws.com'\n",
    "\n",
    "endpoint = f'wss://{server}:{port}/gremlin'\n",
    "\n",
    "graph=Graph()\n",
    "\n",
    " "
   ]
  },
  {
   "cell_type": "markdown",
   "id": "692a40c8-b797-4f3c-b4ae-7b025b785b9e",
   "metadata": {},
   "source": [
    "Print Nodes and edges:"
   ]
  },
  {
   "cell_type": "code",
   "execution_count": 2,
   "id": "db9b338a-4768-429c-a462-0068d46645d2",
   "metadata": {
    "tags": []
   },
   "outputs": [
    {
     "name": "stdout",
     "output_type": "stream",
     "text": [
      "Vertices:\n",
      "{'name': ['Larry'], <T.id: 1>: '4cc56c0e-b691-1a35-8165-1ced14912bbf', <T.label: 4>: 'Student'}\n",
      "{'name': ['Johnson'], <T.id: 1>: '2ec56c0e-b6ac-d8e1-07bb-315c55c1d9dc', <T.label: 4>: 'Student'}\n",
      "Edges:\n"
     ]
    }
   ],
   "source": [
    "connection = DriverRemoteConnection(endpoint, 'g',\n",
    "                 transport_factory=lambda: AiohttpTransport(call_from_event_loop=True))\n",
    "\n",
    "g = graph.traversal().withRemote(connection)\n",
    "\n",
    "# Traverse and retrieve all vertices and their properties\n",
    "vertices = g.V().valueMap(True).toList()\n",
    "\n",
    "# Print out all vertices and their properties\n",
    "print(\"Vertices:\")\n",
    "for vertex in vertices:\n",
    "    print(vertex)\n",
    "\n",
    "# Traverse and retrieve all edges and their properties\n",
    "edges = g.E().valueMap(True).toList()\n",
    "\n",
    "# Print out all edges and their properties\n",
    "print(\"Edges:\")\n",
    "for edge in edges:\n",
    "    print(edge)\n",
    "\n",
    "connection.close()"
   ]
  },
  {
   "cell_type": "markdown",
   "id": "620985f8-2ba8-45d1-8b16-ca2d4531caa4",
   "metadata": {},
   "source": [
    "Adding Students:"
   ]
  },
  {
   "cell_type": "code",
   "execution_count": 13,
   "id": "d42b968a-f487-4851-83cd-6edb7d46ddda",
   "metadata": {
    "tags": []
   },
   "outputs": [
    {
     "name": "stdout",
     "output_type": "stream",
     "text": [
      "Students Michael, Larry, and Johnson have been added to the database.\n"
     ]
    }
   ],
   "source": [
    "\n",
    "\n",
    "connection = DriverRemoteConnection(endpoint, 'g',\n",
    "                 transport_factory=lambda: AiohttpTransport(call_from_event_loop=True))\n",
    "\n",
    "g = graph.traversal().withRemote(connection)\n",
    "\n",
    "# Add vertices for students Michael, Larry, and Johnson\n",
    "g.addV('Student').property('name', 'Michael').next()\n",
    "g.addV('Student').property('name', 'Larry').next()\n",
    "g.addV('Student').property('name', 'Johnson').next()\n",
    "\n",
    "print(\"Students Michael, Larry, and Johnson have been added to the database.\")\n",
    "\n",
    "connection.close()"
   ]
  },
  {
   "cell_type": "markdown",
   "id": "ef762050-a5dd-4e5d-adc4-a94c16a85626",
   "metadata": {},
   "source": [
    "Deleting all students:"
   ]
  },
  {
   "cell_type": "code",
   "execution_count": 8,
   "id": "7609e01a-d0bf-4f94-8b59-5172b7ad5aee",
   "metadata": {
    "tags": []
   },
   "outputs": [
    {
     "name": "stdout",
     "output_type": "stream",
     "text": [
      "All students have been deleted from the database.\n"
     ]
    }
   ],
   "source": [
    "connection = DriverRemoteConnection(endpoint, 'g',\n",
    "                 transport_factory=lambda: AiohttpTransport(call_from_event_loop=True))\n",
    "\n",
    "g = graph.traversal().withRemote(connection)\n",
    "\n",
    "# Drops all vertices with label 'Student'\n",
    "g.V().hasLabel('Student').drop().iterate()\n",
    "\n",
    "print(\"All students have been deleted from the database.\")\n",
    "\n",
    "connection.close()\n"
   ]
  },
  {
   "cell_type": "markdown",
   "id": "0c8c7d41-4210-4d5e-92ad-7a1769e6e43a",
   "metadata": {},
   "source": [
    "Deleting specific students:"
   ]
  },
  {
   "cell_type": "code",
   "execution_count": 14,
   "id": "20041135-c220-435f-a34b-fab367a3d846",
   "metadata": {
    "tags": []
   },
   "outputs": [
    {
     "name": "stdout",
     "output_type": "stream",
     "text": [
      "[['V'], ['hasLabel', 'Student'], ['has', 'name', 'Michael'], ['drop'], ['none']]\n"
     ]
    }
   ],
   "source": [
    "\n",
    "\n",
    "connection = DriverRemoteConnection(endpoint, 'g',\n",
    "                 transport_factory=lambda: AiohttpTransport(call_from_event_loop=True))\n",
    "\n",
    "g = graph.traversal().withRemote(connection)\n",
    "\n",
    "# Drops vertices with the name \"Michael\"\n",
    "print(g.V().hasLabel('Student').has('name', 'Michael').drop().iterate())\n",
    "\n",
    "\n",
    "# print(\"All students have been deleted from the database.\")\n",
    "\n",
    "connection.close()"
   ]
  },
  {
   "cell_type": "code",
   "execution_count": null,
   "id": "5ace3275-f7e2-40ad-88b6-736545531c4f",
   "metadata": {},
   "outputs": [],
   "source": []
  }
 ],
 "metadata": {
  "kernelspec": {
   "display_name": "conda_python3",
   "language": "python",
   "name": "conda_python3"
  },
  "language_info": {
   "codemirror_mode": {
    "name": "ipython",
    "version": 3
   },
   "file_extension": ".py",
   "mimetype": "text/x-python",
   "name": "python",
   "nbconvert_exporter": "python",
   "pygments_lexer": "ipython3",
   "version": "3.10.12"
  }
 },
 "nbformat": 4,
 "nbformat_minor": 5
}
